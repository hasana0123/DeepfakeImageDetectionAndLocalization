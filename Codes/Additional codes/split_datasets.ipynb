{
 "cells": [
  {
   "cell_type": "code",
   "execution_count": 1,
   "metadata": {},
   "outputs": [],
   "source": [
    "import os\n",
    "import shutil\n",
    "import random"
   ]
  },
  {
   "cell_type": "code",
   "execution_count": 2,
   "metadata": {},
   "outputs": [],
   "source": [
    "\n",
    "\n",
    "def split_dataset(source_dir, dest_dir, train_ratio=0.8, val_ratio=0.1, test_ratio=0.1):\n",
    "    if not os.path.exists(source_dir):\n",
    "        print(f\"Source directory '{source_dir}' does not exist.\")\n",
    "        return\n",
    "\n",
    "    categories = ['fake', 'real']\n",
    "\n",
    "    for category in categories:\n",
    "        category_path = os.path.join(source_dir, category)\n",
    "        if not os.path.exists(category_path):\n",
    "            print(f\"Category folder '{category}' does not exist in source directory.\")\n",
    "            continue\n",
    "\n",
    "        images = os.listdir(category_path)\n",
    "        random.shuffle(images)\n",
    "\n",
    "        total_images = len(images)\n",
    "        train_count = int(total_images * train_ratio)\n",
    "        val_count = int(total_images * val_ratio)\n",
    "        test_count = total_images - train_count - val_count\n",
    "\n",
    "        print(f\"{category}: Total={total_images}, Train={train_count}, Validation={val_count}, Test={test_count}\")\n",
    "\n",
    "        splits = {\n",
    "            'train': images[:train_count],\n",
    "            'val': images[train_count:train_count + val_count],\n",
    "            'test': images[train_count + val_count:],\n",
    "        }\n",
    "\n",
    "        for split_name, split_images in splits.items():\n",
    "            split_dir = os.path.join(dest_dir, split_name, category)\n",
    "            os.makedirs(split_dir, exist_ok=True)\n",
    "\n",
    "            for image in split_images:\n",
    "                src_path = os.path.join(category_path, image)\n",
    "                dst_path = os.path.join(split_dir, image)\n",
    "                shutil.copy(src_path, dst_path)\n",
    "\n",
    "    print(\"Dataset splitting complete!\")"
   ]
  },
  {
   "cell_type": "code",
   "execution_count": 3,
   "metadata": {},
   "outputs": [
    {
     "name": "stdout",
     "output_type": "stream",
     "text": [
      "fake: Total=77944, Train=62355, Validation=7794, Test=7795\n",
      "real: Total=16203, Train=12962, Validation=1620, Test=1621\n",
      "Dataset splitting complete!\n"
     ]
    }
   ],
   "source": [
    "# Example usage\n",
    "source_directory = \"/mnt/documents/Minor-Project/Datasets/dfdc_frame_150\"  # Replace with the path to your dataset\n",
    "destination_directory = \"/mnt/documents/Minor-Project/Datasets/dfdc_splitted\"  # Replace with the path to the destination folder\n",
    "\n",
    "split_dataset(source_directory, destination_directory)\n"
   ]
  }
 ],
 "metadata": {
  "kernelspec": {
   "display_name": "myenv",
   "language": "python",
   "name": "python3"
  },
  "language_info": {
   "codemirror_mode": {
    "name": "ipython",
    "version": 3
   },
   "file_extension": ".py",
   "mimetype": "text/x-python",
   "name": "python",
   "nbconvert_exporter": "python",
   "pygments_lexer": "ipython3",
   "version": "3.9.19"
  }
 },
 "nbformat": 4,
 "nbformat_minor": 2
}
